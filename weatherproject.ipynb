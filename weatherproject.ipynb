{
 "cells": [
  {
   "cell_type": "code",
   "execution_count": null,
   "id": "d3e699e1-a427-40dc-894a-421e42a5e25f",
   "metadata": {},
   "outputs": [],
   "source": [
    "import pandas as pd\n",
    "from zipfile import ZipFile\n"
   ]
  },
  {
   "cell_type": "code",
   "execution_count": null,
   "id": "46f946c8-c4de-44e0-9eb7-875ff1b84073",
   "metadata": {},
   "outputs": [],
   "source": [
    "data1=pd.read_csv(r\"C:\\Users\\Hp\\Downloads\\archive.csv\\weatherHistory.csv\") \n",
    "data=pd.DataFrame(data1)"
   ]
  },
  {
   "cell_type": "code",
   "execution_count": null,
   "id": "b7f3d04e-7149-422e-adda-8124b62c4161",
   "metadata": {},
   "outputs": [],
   "source": [
    "data.head()\n",
    " "
   ]
  },
  {
   "cell_type": "code",
   "execution_count": null,
   "id": "8e0a27be-fe7b-49b6-9b45-b041fd0cbbdf",
   "metadata": {},
   "outputs": [],
   "source": [
    "data.index"
   ]
  },
  {
   "cell_type": "code",
   "execution_count": null,
   "id": "6a85a962-2c20-421b-beb6-f1ee1bbe82b7",
   "metadata": {},
   "outputs": [],
   "source": [
    "data.shape"
   ]
  },
  {
   "cell_type": "code",
   "execution_count": null,
   "id": "b6a00d3c-b735-4457-a4df-ceb16a42f36a",
   "metadata": {},
   "outputs": [],
   "source": [
    "data.columns"
   ]
  },
  {
   "cell_type": "code",
   "execution_count": null,
   "id": "687428e0-5bd6-430e-bd93-c2e620161000",
   "metadata": {
    "scrolled": true
   },
   "outputs": [],
   "source": [
    "data.dtypes"
   ]
  },
  {
   "cell_type": "code",
   "execution_count": null,
   "id": "8b1b3e29-ec93-4e17-b7ff-c9096ec6235a",
   "metadata": {},
   "outputs": [],
   "source": [
    "data[\"Humidity\"].unique()"
   ]
  },
  {
   "cell_type": "code",
   "execution_count": null,
   "id": "24534bf7-d966-486a-ba21-a1689f20f820",
   "metadata": {},
   "outputs": [],
   "source": [
    "data.nunique()"
   ]
  },
  {
   "cell_type": "code",
   "execution_count": null,
   "id": "b71ef9e4-a134-42fb-89d9-516d11954cc3",
   "metadata": {},
   "outputs": [],
   "source": [
    "data.count()"
   ]
  },
  {
   "cell_type": "code",
   "execution_count": null,
   "id": "13c27be3-b6ac-4b51-aa8a-a3e5b287b8d2",
   "metadata": {},
   "outputs": [],
   "source": [
    "data['Humidity'].value_counts()"
   ]
  },
  {
   "cell_type": "code",
   "execution_count": null,
   "id": "222cd6fd-040a-4a3b-ac63-800813f87b8f",
   "metadata": {},
   "outputs": [],
   "source": [
    "data.info()"
   ]
  },
  {
   "cell_type": "code",
   "execution_count": null,
   "id": "39ace8a0-ac73-4c04-b57d-e9907602a0da",
   "metadata": {},
   "outputs": [],
   "source": [
    "#unique humidity value in data\n",
    "data.head(2)\n",
    "data['Humidity'].nunique()\n"
   ]
  },
  {
   "cell_type": "code",
   "execution_count": null,
   "id": "8d348962-e140-42b6-a7fd-08de763365ee",
   "metadata": {},
   "outputs": [],
   "source": [
    "data['Humidity'].unique()"
   ]
  },
  {
   "cell_type": "code",
   "execution_count": null,
   "id": "156ae0d3-e0df-4c42-abb5-f41904e3bcc3",
   "metadata": {},
   "outputs": [],
   "source": [
    "#How many times of number when the weather is partly cloudy?\n",
    "data.head(3)\n",
    "data['Daily Summary'].value_counts()\n"
   ]
  },
  {
   "cell_type": "code",
   "execution_count": null,
   "id": "dce1ac05-cb84-4f8e-8d2c-acdc820aaa22",
   "metadata": {},
   "outputs": [],
   "source": [
    "data.head(3)\n",
    "partly_cloudy_count = data[data['Daily Summary'] == \"Partly cloudy throughout the day.\"].shape[0]\n",
    "\n",
    "partly_cloudy_count"
   ]
  },
  {
   "cell_type": "code",
   "execution_count": null,
   "id": "7911abf5-9d07-4131-9596-1ca36a9d6573",
   "metadata": {},
   "outputs": [],
   "source": [
    "data.head(2)\n",
    "data.groupby('Daily Summary').get_group('Partly cloudy throughout the day.')"
   ]
  },
  {
   "cell_type": "code",
   "execution_count": null,
   "id": "a0fd94bc-d496-4837-af26-523951b069dd",
   "metadata": {},
   "outputs": [],
   "source": [
    "#find the num of time when the wind speed was 10km/h\n",
    "data.head(3)\n",
    "\n",
    "data[data[\"Wind Speed (km/h)\"] == 14.1197]\n",
    "\n"
   ]
  },
  {
   "cell_type": "code",
   "execution_count": null,
   "id": "06ba9cd9-365c-4beb-83ca-000a217634c3",
   "metadata": {},
   "outputs": [],
   "source": [
    "#find null\n",
    "data.isnull().sum()"
   ]
  },
  {
   "cell_type": "code",
   "execution_count": null,
   "id": "3077a99d-64d7-464b-acad-75a3a9dadeed",
   "metadata": {},
   "outputs": [],
   "source": [
    "data.notnull().sum()"
   ]
  },
  {
   "cell_type": "code",
   "execution_count": null,
   "id": "3d35369b-cab0-4db4-9319-35a264cd794d",
   "metadata": {},
   "outputs": [],
   "source": [
    "#rename column Humidity to Moisture\n",
    "data.rename(columns={'Humidity':'Moisture'},inplace=True)"
   ]
  },
  {
   "cell_type": "code",
   "execution_count": null,
   "id": "97668164-17c4-4a48-b19a-6a830b2fd7fe",
   "metadata": {},
   "outputs": [],
   "source": [
    "data.head(2)"
   ]
  },
  {
   "cell_type": "code",
   "execution_count": null,
   "id": "aa3268f1-2990-47eb-b20d-25fe1db803a9",
   "metadata": {},
   "outputs": [],
   "source": [
    "#mean of moisture\n",
    "data['Moisture'].mean()"
   ]
  },
  {
   "cell_type": "code",
   "execution_count": null,
   "id": "e01e12e0-6367-4753-8c66-62caae9122f8",
   "metadata": {},
   "outputs": [],
   "source": [
    "#SD of temp (c)\n",
    "data['Temperature (C)'].std()\n"
   ]
  },
  {
   "cell_type": "code",
   "execution_count": null,
   "id": "eb043602-5484-4092-b9d0-3f55ee2b9b88",
   "metadata": {},
   "outputs": [],
   "source": [
    "#variance of temperature (c)\n",
    "data['Temperature (C)'].var()"
   ]
  },
  {
   "cell_type": "code",
   "execution_count": null,
   "id": "193df6af-9559-419a-adbd-8503aa3507f8",
   "metadata": {},
   "outputs": [],
   "source": [
    "#find instances rain\n",
    "data['Precip Type'].value_counts()"
   ]
  },
  {
   "cell_type": "code",
   "execution_count": null,
   "id": "f7d58548-eb34-46b1-9cb8-799b2228923c",
   "metadata": {},
   "outputs": [],
   "source": [
    "data[data['Precip Type']=='rain']"
   ]
  },
  {
   "cell_type": "code",
   "execution_count": null,
   "id": "92a44331-18ca-48fd-8c4e-dc3aca6c1099",
   "metadata": {},
   "outputs": [],
   "source": [
    "#find all insrances when wind speed>14.1197 and precip type is rain\n",
    "data[(data['Wind Speed (km/h)'] > 14.1197) & (data['Precip Type']=='rain')].head(2)"
   ]
  },
  {
   "cell_type": "code",
   "execution_count": null,
   "id": "ecacbcba-0431-457d-93e6-9b46eee1648d",
   "metadata": {},
   "outputs": [],
   "source": [
    "#what is the mean of each cilumns against each 'daily summery'\n",
    "data.head(2)    \n",
    "data.groupby('Daily Summary').mean(numeric_only=True)"
   ]
  },
  {
   "cell_type": "code",
   "execution_count": null,
   "id": "b67c7474-e6c6-474a-ae77-4b8d2c56b82a",
   "metadata": {},
   "outputs": [],
   "source": [
    "#min and max value against each daily summery\n",
    "data.groupby('Daily Summary').min(numeric_only=True)"
   ]
  },
  {
   "cell_type": "code",
   "execution_count": null,
   "id": "934943db-fc20-4c78-ad15-c0464064530c",
   "metadata": {},
   "outputs": [],
   "source": [
    "data.groupby('Daily Summary').max(numeric_only=True)"
   ]
  },
  {
   "cell_type": "code",
   "execution_count": null,
   "id": "aca1e49b-9e71-4078-83ab-aacb4a701a42",
   "metadata": {},
   "outputs": [],
   "source": [
    "data[data['Daily Summary']=='Rain until morning.']"
   ]
  },
  {
   "cell_type": "code",
   "execution_count": null,
   "id": "3d48bc2c-9ecc-4102-857b-70a554c7235a",
   "metadata": {},
   "outputs": [],
   "source": [
    "##find all insrances when wind speed>14.1197 orprecip type is rain\n",
    "data[(data['Wind Speed (km/h)'] > 14.1197) |(data['Precip Type']=='rain')].head(2)"
   ]
  },
  {
   "cell_type": "code",
   "execution_count": null,
   "id": "250819ae-db3f-4d59-9d05-ae3249f58ce7",
   "metadata": {},
   "outputs": [],
   "source": [
    "data[(data[\"Daily Summary\"] == 'Partly Cloudy') & (data['Wind Bearing (degrees)'] == 251.0) | (data['Visibility (km)'] == 15.8263)].head(5)"
   ]
  },
  {
   "cell_type": "code",
   "execution_count": null,
   "id": "6aeae764-85e6-4291-9471-c20b67bec76a",
   "metadata": {},
   "outputs": [],
   "source": []
  }
 ],
 "metadata": {
  "kernelspec": {
   "display_name": "Python 3 (ipykernel)",
   "language": "python",
   "name": "python3"
  },
  "language_info": {
   "codemirror_mode": {
    "name": "ipython",
    "version": 3
   },
   "file_extension": ".py",
   "mimetype": "text/x-python",
   "name": "python",
   "nbconvert_exporter": "python",
   "pygments_lexer": "ipython3",
   "version": "3.13.5"
  }
 },
 "nbformat": 4,
 "nbformat_minor": 5
}
